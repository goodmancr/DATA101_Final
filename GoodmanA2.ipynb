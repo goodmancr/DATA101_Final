{
 "cells": [
  {
   "cell_type": "markdown",
   "metadata": {
    "nbgrader": {
     "grade": false,
     "grade_id": "a0_header",
     "locked": true,
     "solution": false
    }
   },
   "source": [
    "# Assignment 2\n",
    "DATA101: Introduction to Data Science"
   ]
  },
  {
   "cell_type": "markdown",
   "metadata": {
    "nbgrader": {
     "grade": false,
     "grade_id": "a0_dates",
     "locked": true,
     "solution": false
    }
   },
   "source": [
    "## Important Dates\n",
    "\n",
    " - Released: 01/27/2022\n",
    " - Deadline: 02/4/2022\n",
    " \n",
    "### what do you need to submit to OAKS?\n",
    "* < yourName >A2.ipynb \n",
    "\n",
    "Post any questions or any technical issues on Slack."
   ]
  },
  {
   "cell_type": "markdown",
   "metadata": {},
   "source": [
    "<div class=\"alert alert-block alert-success\">\n",
    "    <b>Problem 1 (30pts)</b>\n",
    "</div>"
   ]
  },
  {
   "cell_type": "markdown",
   "metadata": {},
   "source": [
    "Task1\n",
    "* create a python list of your three favorite restraunts in Charleston (stored as strings), \n",
    "* save as variable named `restraunts`, and print using print() (to the notebook)"
   ]
  },
  {
   "cell_type": "code",
   "execution_count": 1,
   "metadata": {},
   "outputs": [
    {
     "name": "stdout",
     "output_type": "stream",
     "text": [
      "['167 Raw', 'Brown Dog Deli', 'Biergarten']\n"
     ]
    }
   ],
   "source": [
    "## add your code here\n",
    "restaurants = ['167 Raw', 'Brown Dog Deli', 'Biergarten']\n",
    "print(restaurants)"
   ]
  },
  {
   "cell_type": "markdown",
   "metadata": {},
   "source": [
    "Task2\n",
    "* add your 4th favorite restraunt to the restraunt list and print"
   ]
  },
  {
   "cell_type": "code",
   "execution_count": 2,
   "metadata": {},
   "outputs": [
    {
     "name": "stdout",
     "output_type": "stream",
     "text": [
      "['167 Raw', 'Brown Dog Deli', 'Biergarten', 'Indaco']\n"
     ]
    }
   ],
   "source": [
    "## add your code here\n",
    "restaurants.append('Indaco')\n",
    "print(restaurants)"
   ]
  },
  {
   "cell_type": "markdown",
   "metadata": {},
   "source": [
    "Task3\n",
    "* print the first and second restraunts only from the restraunt list using indexing"
   ]
  },
  {
   "cell_type": "code",
   "execution_count": 6,
   "metadata": {},
   "outputs": [
    {
     "name": "stdout",
     "output_type": "stream",
     "text": [
      "167 Raw Brown Dog Deli\n"
     ]
    }
   ],
   "source": [
    "## add your code here\n",
    "restaurant1 = restaurants[0]\n",
    "restaurant2 = restaurants[1]\n",
    "print(restaurant1, restaurant2)"
   ]
  },
  {
   "cell_type": "code",
   "execution_count": 7,
   "metadata": {},
   "outputs": [
    {
     "name": "stdout",
     "output_type": "stream",
     "text": [
      "['167 Raw', 'Brown Dog Deli']\n"
     ]
    }
   ],
   "source": [
    "rtn = restaurants[0:2]\n",
    "print(rtn)"
   ]
  },
  {
   "cell_type": "markdown",
   "metadata": {},
   "source": [
    "<div class=\"alert alert-block alert-success\" size = \"6\">\n",
    "    <b>Problem 2 (45pts)</b>\n",
    "</div>\n",
    "\n",
    "**Task1  Making full name**\n",
    "\n",
    "* Create a `full_name` string using `first_name` and `last_name` \n",
    "* For example: \"James\" and \"Bond\" produce \"Bond, James\"\n"
   ]
  },
  {
   "cell_type": "code",
   "execution_count": 12,
   "metadata": {},
   "outputs": [
    {
     "name": "stdout",
     "output_type": "stream",
     "text": [
      "Bond, James\n"
     ]
    }
   ],
   "source": [
    "first_name = \"James\"\n",
    "last_name = \"Bond\"\n",
    "## BEGIN YOUR SOLUTION\n",
    "full_name = last_name + \", \" + first_name\n",
    "print(full_name)\n",
    "## END YOUR SOLUTION"
   ]
  },
  {
   "cell_type": "code",
   "execution_count": 13,
   "metadata": {},
   "outputs": [],
   "source": [
    "assert full_name == \"Bond, James\""
   ]
  },
  {
   "cell_type": "markdown",
   "metadata": {},
   "source": [
    "**Task2 Indexing and Slicing are fun**\n",
    "* Given a list `\n",
    "x = [0, 1, 2, 3, 4, 5, 6, 7, 8, 9]` , use list indexing and slicing to make the following `variable` based on the `name` meaning\n",
    "* for example: \n",
    "    - `zeor = x[0]`\n",
    "    - `first_three = x[:3]`"
   ]
  },
  {
   "cell_type": "code",
   "execution_count": 26,
   "metadata": {},
   "outputs": [],
   "source": [
    "x = [0, 1, 2, 3, 4, 5, 6, 7, 8, 9]\n",
    "zero = x[0] # equals to 0,\n",
    "first_three = x[:3] # [-1, 1, 2]\n",
    "\n",
    "## BEGIN YOUR SOLUTION\n",
    "\n",
    "one = x[1]\n",
    "eight = x[8]\n",
    "nine = x[9]\n",
    "\n",
    "number_of_iterms_in_x = len(x)\n",
    "three_to_end = x[3:]                # [3, 4, ..., 9]\n",
    "one_to_four = x[1:5]  # [1, 2, 3, 4]\n",
    "last_three = x[-3:]  # [7, 8, 9]\n",
    "without_first_and_last = x[1:-1]  # [1, 2, ..., 8]\n",
    "copy_of_x = x                 # [0, 1, 2, ..., 9]\n",
    "\n",
    "every_third = x[0::3]              # [0, 3, 6, 9]\n",
    "five_to_three = x[5:2:-1]        # [5, 4, 3]\n",
    "## END YOUR SOLUTION"
   ]
  },
  {
   "cell_type": "code",
   "execution_count": 27,
   "metadata": {},
   "outputs": [],
   "source": [
    "assert zero == 0; assert one == 1; assert eight == 8; assert nine == 9;\n",
    "assert number_of_iterms_in_x == 10\n",
    "assert three_to_end == [3, 4, 5, 6, 7, 8, 9]\n",
    "assert one_to_four == [1, 2, 3, 4]\n",
    "assert last_three == [7, 8, 9]\n",
    "assert without_first_and_last == [1, 2, 3, 4, 5, 6, 7, 8]\n",
    "assert copy_of_x == [0, 1, 2, 3, 4, 5, 6, 7, 8, 9]\n",
    "assert every_third == [0, 3, 6, 9]\n",
    "assert five_to_three == [5, 4, 3]"
   ]
  },
  {
   "cell_type": "markdown",
   "metadata": {},
   "source": [
    "__Task3 Even indices__\n",
    "\n",
    "Assuem we have a string variable `word` , write python code to create another string variable which only has the characters at even indices.\n",
    "* For example, \"ABCDEF\"  produces \"ACE\"."
   ]
  },
  {
   "cell_type": "code",
   "execution_count": 29,
   "metadata": {},
   "outputs": [],
   "source": [
    "word = \"ABCDEF\"\n",
    "## BEGIN YOUR SOLUTION\n",
    "even = word[::2]\n",
    "## END YOUR SOLUTION"
   ]
  },
  {
   "cell_type": "markdown",
   "metadata": {},
   "source": [
    "<div class=\"alert alert-block alert-success\" size = \"6\">\n",
    "    <b>Problem 3 (25pts)</b>\n",
    "</div>\n",
    "\n",
    "**Task1 IP address**\n",
    "\n",
    "Given a string with 4 whole numbers separated by commas, and make another `string` with these 4 numbers separated by periods (the format of an [IPv4](https://en.wikipedia.org/wiki/IPv4) address). \n",
    "* For example,  `\"127, 0, 0, 1\"` should produce the address `\"127.0.0.1\"` (note that there is no period at the end)."
   ]
  },
  {
   "cell_type": "code",
   "execution_count": 40,
   "metadata": {},
   "outputs": [
    {
     "name": "stdout",
     "output_type": "stream",
     "text": [
      "127.0.0.1\n"
     ]
    }
   ],
   "source": [
    "IP_nums = \"127,0,0,1\"\n",
    "## BEGIN YOUR SOLUTION\n",
    "new = IP_nums.split(',')\n",
    "print('.'.join(new))\n",
    "## END YOUR SOLUTION\n"
   ]
  },
  {
   "cell_type": "markdown",
   "metadata": {},
   "source": [
    "**Task2 Adding digits**\n",
    "\n",
    "Caculate the sum of the digits in an integer variable. \n",
    "* For example, the sum of the digits in 123450 is 15.\n",
    "* Hint: Convert the number to a string."
   ]
  },
  {
   "cell_type": "code",
   "execution_count": 59,
   "metadata": {},
   "outputs": [
    {
     "name": "stdout",
     "output_type": "stream",
     "text": [
      "15\n"
     ]
    }
   ],
   "source": [
    "num = 123450\n",
    "## BEGIN YOUR SOLUTION\n",
    "total = 0\n",
    "for number in str(num):\n",
    "    total += int(number)\n",
    "## END YOUR SOLUTION"
   ]
  },
  {
   "cell_type": "code",
   "execution_count": null,
   "metadata": {},
   "outputs": [],
   "source": []
  }
 ],
 "metadata": {
  "celltoolbar": "Create Assignment",
  "kernelspec": {
   "display_name": "Python 3 (ipykernel)",
   "language": "python",
   "name": "python3"
  },
  "language_info": {
   "codemirror_mode": {
    "name": "ipython",
    "version": 3
   },
   "file_extension": ".py",
   "mimetype": "text/x-python",
   "name": "python",
   "nbconvert_exporter": "python",
   "pygments_lexer": "ipython3",
   "version": "3.9.7"
  }
 },
 "nbformat": 4,
 "nbformat_minor": 4
}
