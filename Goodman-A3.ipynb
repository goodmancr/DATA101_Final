{
 "cells": [
  {
   "cell_type": "markdown",
   "metadata": {
    "nbgrader": {
     "grade": false,
     "grade_id": "a0_header",
     "locked": true,
     "solution": false
    }
   },
   "source": [
    "# Assignment 3\n",
    "DATA101: Introduction to Data Science"
   ]
  },
  {
   "cell_type": "markdown",
   "metadata": {
    "nbgrader": {
     "grade": false,
     "grade_id": "a0_dates",
     "locked": true,
     "solution": false
    }
   },
   "source": [
    "## Important Dates\n",
    "\n",
    " - Released: 02/10/2022\n",
    " - Deadline: 02/18/2022\n",
    " \n",
    "### what do you need to submit to OAKS?\n",
    "* < yourName >A3.ipynb \n",
    "\n",
    "Post any questions or any technical issues on Slack."
   ]
  },
  {
   "cell_type": "markdown",
   "metadata": {},
   "source": [
    "<div class=\"alert alert-block alert-success\" size = \"6\">\n",
    "    <b>Problem 1 </b>\n",
    "</div>\n",
    "\n",
    "**Task1**  \n",
    "\n",
    "Trace the output of the following program. Then rewrite the program using a “while” loop instead of a “for” loop."
   ]
  },
  {
   "cell_type": "code",
   "execution_count": 97,
   "metadata": {},
   "outputs": [
    {
     "name": "stdout",
     "output_type": "stream",
     "text": [
      "0 Python\n",
      "2 C\n",
      "4 Java Script\n",
      "6 Go\n"
     ]
    }
   ],
   "source": [
    "langs = [\"Python\", \"Java\", \"C\", \"PHP\", \"Java Script\", \"Ruby\", \"Go\"]\n",
    "for i in range(0,len(langs) , 2):\n",
    "    print (i, langs[i])"
   ]
  },
  {
   "cell_type": "code",
   "execution_count": 98,
   "metadata": {},
   "outputs": [
    {
     "name": "stdout",
     "output_type": "stream",
     "text": [
      "0 Python\n",
      "2 C\n",
      "4 Java Script\n",
      "6 Go\n"
     ]
    }
   ],
   "source": [
    "## add your solution here\n",
    "i = 0\n",
    "while i < len(langs):\n",
    "    print(i, langs[i])\n",
    "    i += 2"
   ]
  },
  {
   "cell_type": "markdown",
   "metadata": {},
   "source": [
    "**Task2**\n",
    "\n",
    "Use list comprehension to create list `num_list` for the following for loop"
   ]
  },
  {
   "cell_type": "code",
   "execution_count": 99,
   "metadata": {},
   "outputs": [
    {
     "name": "stdout",
     "output_type": "stream",
     "text": [
      "[1, 2, 3, 4, 5, 0]\n"
     ]
    }
   ],
   "source": [
    "num = 123450\n",
    "num_list = []\n",
    "for i in str(num):\n",
    "    num_list.append(int(i))\n",
    "print(num_list)"
   ]
  },
  {
   "cell_type": "code",
   "execution_count": 100,
   "metadata": {},
   "outputs": [
    {
     "name": "stdout",
     "output_type": "stream",
     "text": [
      "[1, 2, 3, 4, 5, 0]\n"
     ]
    }
   ],
   "source": [
    "## add your solution here\n",
    "num = 123450\n",
    "num_list = []\n",
    "[num_list.append(int(i)) for i in str(num)]\n",
    "print(num_list)"
   ]
  },
  {
   "cell_type": "markdown",
   "metadata": {},
   "source": [
    "**Task3**\n",
    "\n",
    "Create a list `str_list` from `num_list`,  so that each item of `str_list` is the string version of the 5 times of the number in `num_list`.\n",
    "* For example, [2, 3, 7] would produce [\"10\", \"15\", \"35\"]\n",
    "  "
   ]
  },
  {
   "cell_type": "code",
   "execution_count": 101,
   "metadata": {},
   "outputs": [
    {
     "name": "stdout",
     "output_type": "stream",
     "text": [
      "['10', '15', '35']\n"
     ]
    }
   ],
   "source": [
    "num_list = [2, 3, 7 ]\n",
    "## add your solution here\n",
    "str_list = []\n",
    "for i in range(len(num_list)):\n",
    "               str_list.append(str(num_list[i]*5))\n",
    "print(str_list)"
   ]
  },
  {
   "cell_type": "markdown",
   "metadata": {},
   "source": [
    "<div class=\"alert alert-block alert-success\">\n",
    "    <b>Problem 2</b>\n",
    "</div>"
   ]
  },
  {
   "cell_type": "markdown",
   "metadata": {},
   "source": [
    "**Task1**\n",
    "* create a Python dictionary called `favorite` with  your favorite restaurants  as keys, and a list of foods/dishes you like in that restaurant as value associate with that key. You should add at leasts two restaurants in your dictionary\n",
    "* print out all items using the .items() method\n"
   ]
  },
  {
   "cell_type": "code",
   "execution_count": 102,
   "metadata": {},
   "outputs": [
    {
     "name": "stdout",
     "output_type": "stream",
     "text": [
      "Brown Dog Deli ['salad', 'fries', 'tea']\n",
      "Rio Chico ['tacos', 'rice', 'queso']\n"
     ]
    }
   ],
   "source": [
    "## add your code here\n",
    "favorite = {'Brown Dog Deli':1, 'Rio Chico':2}\n",
    "favorite['Brown Dog Deli'] = ['salad','fries','tea']\n",
    "favorite['Rio Chico'] = ['tacos','rice','queso']\n",
    "for key, value in favorite.items():\n",
    "    print(key,value)"
   ]
  },
  {
   "cell_type": "markdown",
   "metadata": {},
   "source": [
    "**Task2**\n",
    "* add one more restraunt and food list to `favorite` \n"
   ]
  },
  {
   "cell_type": "code",
   "execution_count": 103,
   "metadata": {},
   "outputs": [],
   "source": [
    "## add your solution here\n",
    "favorite['Chick-fil-a'] = ['chicken sandwich', 'fries', 'milkshake']"
   ]
  },
  {
   "cell_type": "markdown",
   "metadata": {},
   "source": [
    "**Task3**\n",
    "* get the food list in `favorite` which associate with ONE restaruant you CHOOSE.  \n",
    "* print out all foods in that resaruant using the enumerate() method"
   ]
  },
  {
   "cell_type": "code",
   "execution_count": 104,
   "metadata": {},
   "outputs": [
    {
     "name": "stdout",
     "output_type": "stream",
     "text": [
      "(0, 'chicken sandwich')\n",
      "(1, 'fries')\n",
      "(2, 'milkshake')\n"
     ]
    }
   ],
   "source": [
    "## add your solution here\n",
    "enumerateCFA = enumerate(favorite['Chick-fil-a'])\n",
    "for item in enumerateCFA:\n",
    "    print(item)"
   ]
  },
  {
   "cell_type": "markdown",
   "metadata": {},
   "source": [
    "**Task4**\n",
    "* add one more food to ONE restaruant you CHOOSE.  \n",
    "* print out all foods in that resaruant  using the enumerate() method"
   ]
  },
  {
   "cell_type": "code",
   "execution_count": 105,
   "metadata": {},
   "outputs": [
    {
     "name": "stdout",
     "output_type": "stream",
     "text": [
      "(0, 'chicken sandwich')\n",
      "(1, 'fries')\n",
      "(2, 'milkshake')\n",
      "(3, 'chicken nuggets')\n"
     ]
    }
   ],
   "source": [
    "## add your solution here\n",
    "favorite['Chick-fil-a'].append('chicken nuggets')\n",
    "enumerateCFA = enumerate(favorite['Chick-fil-a'])\n",
    "for item in enumerateCFA:\n",
    "    print(item)"
   ]
  },
  {
   "cell_type": "markdown",
   "metadata": {},
   "source": [
    "**Task5** (Charllenge one)\n",
    "* print the restaurants and food lists in an elegant way as follows:\n",
    "```\n",
    "    Old Li's Restaurant:\n",
    "        1. squirrel fish\n",
    "        2. spicy boiled beef\n",
    "        3. Dongpo pork\n",
    "        4. Peking duck\n",
    "    East Bay Deli:\n",
    "        1. Chicken Salad Croissant\n",
    "    CO:\n",
    "        1. Pad Thai\n",
    "        2. Pho\n",
    " ```   \n",
    "* hint: use nested loops"
   ]
  },
  {
   "cell_type": "code",
   "execution_count": 116,
   "metadata": {},
   "outputs": [
    {
     "name": "stdout",
     "output_type": "stream",
     "text": [
      "Brown Dog Deli:\n",
      "\t1. salad\n",
      "\t2. fries\n",
      "\t3. tea\n",
      "Rio Chico:\n",
      "\t1. tacos\n",
      "\t2. rice\n",
      "\t3. queso\n",
      "Chick-fil-a:\n",
      "\t1. chicken sandwich\n",
      "\t2. fries\n",
      "\t3. milkshake\n",
      "\t4. chicken nuggets\n"
     ]
    }
   ],
   "source": [
    "## add your solution here\n",
    "for item in favorite.keys():\n",
    "    print(item+\":\")\n",
    "    for i in range(len(favorite[item])):\n",
    "        print(\"\\t\"+ str(i+1) + \". \" +favorite[item][i])"
   ]
  },
  {
   "cell_type": "markdown",
   "metadata": {
    "nbgrader": {
     "grade": false,
     "grade_id": "q1b_prompt",
     "locked": true,
     "schema_version": 1,
     "solution": false
    }
   },
   "source": [
    "<div class=\"alert alert-block alert-success\">\n",
    "    <b>Problem 3</b>\n",
    "</div>\n",
    "\n",
    "In this question, you're given two lists: keys and values. Write a loop that uses the `zip` function in order to create a dictionary which contains the specific keys and values.\n",
    "\n",
    "For example, the function `lists_to_dict( [\"one\", \"two\", \"three\"], [1, 2, 3] )` should return a dictionary that looks like:\n",
    "\n",
    "`{\"one\": 1, \"two\": 2, \"three\": 3}`\n",
    "\n",
    "It doesn't matter if, when printed, the key/values are in a different order, so long as the correct keys are paired with the correct values.\n",
    "\n",
    "**Sorry, using `dict()` is not allowed.** It's a great function that would answer this question in one line, but you can't use it here."
   ]
  },
  {
   "cell_type": "code",
   "execution_count": 121,
   "metadata": {
    "nbgrader": {
     "grade": false,
     "grade_id": "q1b",
     "locked": false,
     "schema_version": 1,
     "solution": true
    }
   },
   "outputs": [
    {
     "data": {
      "text/plain": [
       "{'one': 1, 'two': 2, 'three': 3}"
      ]
     },
     "execution_count": 121,
     "metadata": {},
     "output_type": "execute_result"
    }
   ],
   "source": [
    "def lists_to_dict(keys, values):\n",
    "    new_dict = {}\n",
    "    \n",
    "    ### BEGIN SOLUTION\n",
    "    num_list = zip(keys,values)\n",
    "    for i in range(0, len(keys)):\n",
    "        new_dict[keys[i]] = values[i]\n",
    "    ### END SOLUTION\n",
    "    \n",
    "    return new_dict\n",
    "lists_to_dict( [\"one\", \"two\", \"three\"], [1, 2, 3] ) "
   ]
  },
  {
   "cell_type": "code",
   "execution_count": 122,
   "metadata": {
    "nbgrader": {
     "grade": true,
     "grade_id": "q1b_test1",
     "locked": true,
     "points": 10,
     "schema_version": 1,
     "solution": false
    }
   },
   "outputs": [],
   "source": [
    "## for tesing purpose\n",
    "k1 = [\"1\", \"2\", \"3\"]\n",
    "v1 = [\"one\", \"two\", \"three\"]\n",
    "a1 = set({(k1[0], v1[0]), (k1[1], v1[1]), (k1[2], v1[2])})\n",
    "assert a1 == set(lists_to_dict(k1, v1).items())"
   ]
  },
  {
   "cell_type": "code",
   "execution_count": 123,
   "metadata": {
    "nbgrader": {
     "grade": true,
     "grade_id": "q1b_test2",
     "locked": true,
     "points": 10,
     "schema_version": 1,
     "solution": false
    }
   },
   "outputs": [],
   "source": [
    "## for tesing purpose\n",
    "k2 = [\"wat1\", \"wat2\", \"wat3\", \"wat4\", \"wat5\"]\n",
    "v2 = [1, 2, 3, 4, 5]\n",
    "a2 = set({(k2[0], v2[0]), (k2[1], v2[1]), (k2[2], v2[2]), (k2[3], v2[3]), (k2[4], v2[4])})\n",
    "assert a2 == set(lists_to_dict(k2, v2).items())"
   ]
  },
  {
   "cell_type": "markdown",
   "metadata": {
    "nbgrader": {
     "grade": false,
     "grade_id": "q1a_prompt",
     "locked": true,
     "schema_version": 1,
     "solution": false
    }
   },
   "source": [
    "<div class=\"alert alert-block alert-success\">\n",
    "    <b>Problem 4: Pracice python functions</b>\n",
    "</div>\n",
    "\n",
    "**Task1**\n",
    "Write a function:\n",
    "\n",
    " - named `add_one`\n",
    " - takes 1 argument, a list\n",
    " - returns 1 value, a list\n",
    " \n",
    "In this function, you should loop through each element of the argument list, add 1 to it, and then return the new list.\n",
    "\n",
    "For example, `add_one([1, 2, 3])` should return `[2, 3, 4]`. No imports!\n",
    "\n",
    "*HINT*: I would highly recommend constructing a *new* list, rather than updating the *old* one."
   ]
  },
  {
   "cell_type": "code",
   "execution_count": 124,
   "metadata": {
    "nbgrader": {
     "grade": false,
     "grade_id": "q1a",
     "locked": false,
     "schema_version": 1,
     "solution": true
    }
   },
   "outputs": [
    {
     "data": {
      "text/plain": [
       "[2, 3, 4]"
      ]
     },
     "execution_count": 124,
     "metadata": {},
     "output_type": "execute_result"
    }
   ],
   "source": [
    "# add your solution here\n",
    "def add_one(num_list):\n",
    "    rtn_list = []\n",
    "    [rtn_list.append(num+1) for num in num_list]\n",
    "    return rtn_list\n",
    "add_one([1,2,3])"
   ]
  },
  {
   "cell_type": "code",
   "execution_count": 125,
   "metadata": {
    "nbgrader": {
     "grade": true,
     "grade_id": "q1a_test1",
     "locked": true,
     "points": 5,
     "schema_version": 1,
     "solution": false
    }
   },
   "outputs": [],
   "source": [
    "#for testing purpose\n",
    "import numpy as np\n",
    "np.random.seed(7584)\n",
    "\n",
    "list1 = np.random.randint(-100, 100, 10)\n",
    "actual1 = list1 + 1\n",
    "pred1 = add_one(list1.tolist())\n",
    "assert pred1 == actual1.tolist()"
   ]
  },
  {
   "cell_type": "markdown",
   "metadata": {},
   "source": [
    "**Task2**\n",
    "\n",
    "Write a function `adjust_wages_by_rate()`, that accepts a list of employee wages and a number rate. The function should modify each wage in the list by multipling the rate, and return a list of adjusted wages\n",
    "* For example:\n",
    "`wages` [20.00, 30.00, 15.00, 19.50, 13.00] and `rate` 1.5 will produce [30.0, 45.0, 22.5, 29.25, 19.5]\n",
    "* write statements to test the function using above example\n",
    "\n"
   ]
  },
  {
   "cell_type": "code",
   "execution_count": 126,
   "metadata": {},
   "outputs": [
    {
     "data": {
      "text/plain": [
       "[30.0, 45.0, 22.5, 29.25, 19.5]"
      ]
     },
     "execution_count": 126,
     "metadata": {},
     "output_type": "execute_result"
    }
   ],
   "source": [
    "# add your solution here\n",
    "def adjust_wages_by_rate(wages_list,rate):\n",
    "    rtn_list = []\n",
    "    [rtn_list.append(wage*rate) for wage in wages_list]\n",
    "    return rtn_list\n",
    "wages = [20.00, 30.00, 15.00, 19.50, 13.00]\n",
    "adjust_wages_by_rate(wages,1.5)"
   ]
  },
  {
   "cell_type": "markdown",
   "metadata": {},
   "source": [
    "**Task3**\n",
    "\n",
    "Write a function adjust_wages_by_rates(), that accepts a list of employee wages and a list of corresponding rates for each employee. The function should modify each wage in the list by  multipling the corresponding rate, and return a list of adjusted wages.(Surggestion: using zip())\n",
    "\n",
    "* for example: wages [20.00, 30.00, 15.00, 19.50, 13.00] and rates [1.5, 0.9, 1.2, 1.0, 2] will produce [30.0, 27.0, 18.0, 19.5, 26.0]\n",
    "\n",
    "* write statements to test the function using above example\n",
    "\n"
   ]
  },
  {
   "cell_type": "code",
   "execution_count": 127,
   "metadata": {},
   "outputs": [
    {
     "data": {
      "text/plain": [
       "[30.0, 27.0, 18.0, 19.5, 26.0]"
      ]
     },
     "execution_count": 127,
     "metadata": {},
     "output_type": "execute_result"
    }
   ],
   "source": [
    "# add your solution here\n",
    "def adjust_wages_by_rates(wages,rates):\n",
    "    rtn_list = []\n",
    "    [rtn_list.append(item1 * item2) for item1, item2 in zip(wages, rates)]\n",
    "    return rtn_list\n",
    "adjust_wages_by_rates( [20.00, 30.00, 15.00, 19.50, 13.00],[1.5, 0.9, 1.2, 1.0, 2])"
   ]
  },
  {
   "cell_type": "markdown",
   "metadata": {
    "nbgrader": {
     "grade": false,
     "grade_id": "q3b_prompt",
     "locked": true,
     "schema_version": 1,
     "solution": false
    }
   },
   "source": [
    "<div class=\"alert alert-block alert-success\">\n",
    "    <b>Problem 4: Finding all</b>\n",
    "</div>\n",
    "\n",
    "**Task1** \n",
    "Write a function that finds all occurrences of a specific value in a list, and records--in a separate list--these occurrences in terms of the *indices* where they were found.\n",
    "\n",
    "Your function should:\n",
    "\n",
    " - be named `find_all`\n",
    " - take 2 arguments: a list of items, and a single element to search for in the list\n",
    " - returns 1 list: a list of *indices* into the input list that correspond to elements in the input list that match what we were looking for\n",
    " \n",
    "For example, `find_all([1, 2, 3, 4, 5, 2], 2)` would return `[1, 5]`. `find_all([1, 2, 3], 0)` should return `[]`.\n",
    "\n",
    "*HINT*: Instead of doing a simple `for element in list:` loop, try using the `range()` function in the loop header.\n",
    "\n",
    "You cannot use any built-in functions besides `len()` and `range()`."
   ]
  },
  {
   "cell_type": "code",
   "execution_count": 128,
   "metadata": {},
   "outputs": [
    {
     "data": {
      "text/plain": [
       "[1, 5]"
      ]
     },
     "execution_count": 128,
     "metadata": {},
     "output_type": "execute_result"
    }
   ],
   "source": [
    "## add your solution here..\n",
    "def find_all(item_list, search):\n",
    "    rtn_list = []\n",
    "    for i in range(len(item_list)):\n",
    "        if item_list[i] == search:\n",
    "            rtn_list.append(i)\n",
    "    return rtn_list\n",
    "find_all([1,2,3,4,5,2],2)"
   ]
  },
  {
   "cell_type": "code",
   "execution_count": 129,
   "metadata": {
    "nbgrader": {
     "grade": true,
     "grade_id": "q3b_test1",
     "locked": true,
     "points": 5,
     "schema_version": 1,
     "solution": false
    }
   },
   "outputs": [
    {
     "ename": "NameError",
     "evalue": "name 'find_all1' is not defined",
     "output_type": "error",
     "traceback": [
      "\u001b[0;31m---------------------------------------------------------------------------\u001b[0m",
      "\u001b[0;31mNameError\u001b[0m                                 Traceback (most recent call last)",
      "\u001b[0;32m/var/folders/vm/39l8g9l10r5cmk_8kpg_b4sm0000gn/T/ipykernel_26443/2863872079.py\u001b[0m in \u001b[0;36m<module>\u001b[0;34m\u001b[0m\n\u001b[1;32m      3\u001b[0m \u001b[0ms1\u001b[0m \u001b[0;34m=\u001b[0m \u001b[0;36m2\u001b[0m\u001b[0;34m\u001b[0m\u001b[0;34m\u001b[0m\u001b[0m\n\u001b[1;32m      4\u001b[0m \u001b[0ma1\u001b[0m \u001b[0;34m=\u001b[0m \u001b[0;34m[\u001b[0m\u001b[0;36m1\u001b[0m\u001b[0;34m,\u001b[0m \u001b[0;36m5\u001b[0m\u001b[0;34m]\u001b[0m\u001b[0;34m\u001b[0m\u001b[0;34m\u001b[0m\u001b[0m\n\u001b[0;32m----> 5\u001b[0;31m \u001b[0;32massert\u001b[0m \u001b[0mset\u001b[0m\u001b[0;34m(\u001b[0m\u001b[0ma1\u001b[0m\u001b[0;34m)\u001b[0m \u001b[0;34m==\u001b[0m \u001b[0mset\u001b[0m\u001b[0;34m(\u001b[0m\u001b[0mfind_all1\u001b[0m\u001b[0;34m(\u001b[0m\u001b[0ml1\u001b[0m\u001b[0;34m,\u001b[0m \u001b[0ms1\u001b[0m\u001b[0;34m)\u001b[0m\u001b[0;34m)\u001b[0m\u001b[0;34m\u001b[0m\u001b[0;34m\u001b[0m\u001b[0m\n\u001b[0m",
      "\u001b[0;31mNameError\u001b[0m: name 'find_all1' is not defined"
     ]
    }
   ],
   "source": [
    "##for testing purpose\n",
    "l1 = [1, 2, 3, 4, 5, 2]\n",
    "s1 = 2\n",
    "a1 = [1, 5]\n",
    "assert set(a1) == set(find_all1(l1, s1))"
   ]
  },
  {
   "cell_type": "code",
   "execution_count": 130,
   "metadata": {
    "nbgrader": {
     "grade": true,
     "grade_id": "q3b_test2",
     "locked": true,
     "points": 5,
     "schema_version": 1,
     "solution": false
    }
   },
   "outputs": [],
   "source": [
    "#for testing purpose\n",
    "l2 = [\"a\", \"random\", \"set\", \"of\", \"strings\", \"for\", \"an\", \"interesting\", \"strings\", \"problem\"]\n",
    "s2 = \"strings\"\n",
    "a2 = [4, 8]\n",
    "assert set(a2) == set(find_all(l2, s2))"
   ]
  },
  {
   "cell_type": "code",
   "execution_count": 131,
   "metadata": {
    "nbgrader": {
     "grade": true,
     "grade_id": "q3b_test3",
     "locked": true,
     "points": 5,
     "schema_version": 1,
     "solution": false
    }
   },
   "outputs": [],
   "source": [
    "#for testing purpose\n",
    "l3 = [1, 2, 3, 4, 5, 6, 7, 8, 9, 10]\n",
    "s3 = 1001\n",
    "a3 = []\n",
    "assert set(a3) == set(find_all(l3, s3))"
   ]
  },
  {
   "cell_type": "markdown",
   "metadata": {
    "nbgrader": {
     "grade": false,
     "grade_id": "q3c_prompt",
     "locked": true,
     "schema_version": 1,
     "solution": false
    }
   },
   "source": [
    "**Task2**\n",
    "\n",
    "Write a function which provides counts of very specific elements in a list. This function will return a dictionary where the keys are the elements you wanted to find, and their values are the number of times (counts) they were found in the target list.\n",
    "\n",
    "*HINT*: You can use your answer to Task1 here to expedite the solution! You don't have to, but you can, as it partially solves the problem here. To do that, simply call your function `find_all`--you do NOT need to copy/paste it into the cell below! Python will see it in an earlier cell and will know that it exists (as long as you've hit the \"Play/Run\" button on that cell, of course. And if you make any changes to it, you should hit the \"Play/Run\" button again; this updates it in the Python program, kind of like hitting \"Save\" on a Word doc).\n",
    "\n",
    "Your function should:\n",
    "\n",
    " - be named `element_counts`\n",
    " - take 2 arguments, both lists: a list of your data, and a list of elements you want counted in your data\n",
    " - return a dictionary: keys are the elements you wanted counted, and values are their counts in the data\n",
    " \n",
    "For example, `element_counts([1, 2, 3, 4, 5, 2], [2, 5])` would return `{2: 2, 5: 1}`, as there were two 2s in the data list, and one 5. Another example would be `element_counts([1, 2, 3], [0, 1])`, which would return `{0: 0, 1: 1}`, as there were no 0s in the original list, and one 1.\n",
    "\n",
    "You cannot use any built-in functions besides `len()` and `range()`."
   ]
  },
  {
   "cell_type": "code",
   "execution_count": 132,
   "metadata": {},
   "outputs": [
    {
     "data": {
      "text/plain": [
       "{2: 2, 5: 1}"
      ]
     },
     "execution_count": 132,
     "metadata": {},
     "output_type": "execute_result"
    }
   ],
   "source": [
    "# add your solution here\n",
    "def element_counts(data_list,element_list):\n",
    "    rtnDict = {}\n",
    "    for i in range(len(element_list)):\n",
    "        rtnDict[element_list[i]] = len(find_all(data_list,element_list[i]))\n",
    "    return rtnDict\n",
    "element_counts([1, 2, 3, 4, 5, 2], [2, 5])"
   ]
  },
  {
   "cell_type": "code",
   "execution_count": 133,
   "metadata": {
    "nbgrader": {
     "grade": true,
     "grade_id": "q3c_test1",
     "locked": true,
     "points": 5,
     "schema_version": 1,
     "solution": false
    }
   },
   "outputs": [
    {
     "ename": "NameError",
     "evalue": "name 'element_counts3' is not defined",
     "output_type": "error",
     "traceback": [
      "\u001b[0;31m---------------------------------------------------------------------------\u001b[0m",
      "\u001b[0;31mNameError\u001b[0m                                 Traceback (most recent call last)",
      "\u001b[0;32m/var/folders/vm/39l8g9l10r5cmk_8kpg_b4sm0000gn/T/ipykernel_26443/135847741.py\u001b[0m in \u001b[0;36m<module>\u001b[0;34m\u001b[0m\n\u001b[1;32m      3\u001b[0m \u001b[0ms1\u001b[0m \u001b[0;34m=\u001b[0m \u001b[0;34m[\u001b[0m\u001b[0;36m2\u001b[0m\u001b[0;34m,\u001b[0m \u001b[0;36m5\u001b[0m\u001b[0;34m]\u001b[0m\u001b[0;34m\u001b[0m\u001b[0;34m\u001b[0m\u001b[0m\n\u001b[1;32m      4\u001b[0m \u001b[0ma1\u001b[0m \u001b[0;34m=\u001b[0m \u001b[0;34m{\u001b[0m\u001b[0;36m2\u001b[0m\u001b[0;34m:\u001b[0m \u001b[0;36m2\u001b[0m\u001b[0;34m,\u001b[0m \u001b[0;36m5\u001b[0m\u001b[0;34m:\u001b[0m \u001b[0;36m1\u001b[0m\u001b[0;34m}\u001b[0m\u001b[0;34m\u001b[0m\u001b[0;34m\u001b[0m\u001b[0m\n\u001b[0;32m----> 5\u001b[0;31m \u001b[0;32massert\u001b[0m \u001b[0ma1\u001b[0m \u001b[0;34m==\u001b[0m \u001b[0melement_counts3\u001b[0m\u001b[0;34m(\u001b[0m\u001b[0ml1\u001b[0m\u001b[0;34m,\u001b[0m \u001b[0ms1\u001b[0m\u001b[0;34m)\u001b[0m\u001b[0;34m\u001b[0m\u001b[0;34m\u001b[0m\u001b[0m\n\u001b[0m",
      "\u001b[0;31mNameError\u001b[0m: name 'element_counts3' is not defined"
     ]
    }
   ],
   "source": [
    "##for testing purpose\n",
    "l1 = [1, 2, 3, 4, 5, 2]\n",
    "s1 = [2, 5]\n",
    "a1 = {2: 2, 5: 1}\n",
    "assert a1 == element_counts3(l1, s1)"
   ]
  },
  {
   "cell_type": "code",
   "execution_count": 134,
   "metadata": {
    "nbgrader": {
     "grade": true,
     "grade_id": "q3c_test2",
     "locked": true,
     "points": 5,
     "schema_version": 1,
     "solution": false
    }
   },
   "outputs": [],
   "source": [
    "#for testing purpose\n",
    "l2 = [\"a\", \"random\", \"set\", \"of\", \"strings\", \"for\", \"an\", \"interesting\", \"strings\", \"problem\"]\n",
    "s2 = [\"strings\", \"of\", \"notinthelist\"]\n",
    "a2 = {\"strings\": 2, \"of\": 1, \"notinthelist\": 0}\n",
    "assert a2 == element_counts(l2, s2)"
   ]
  }
 ],
 "metadata": {
  "celltoolbar": "Create Assignment",
  "kernelspec": {
   "display_name": "Python 3 (ipykernel)",
   "language": "python",
   "name": "python3"
  },
  "language_info": {
   "codemirror_mode": {
    "name": "ipython",
    "version": 3
   },
   "file_extension": ".py",
   "mimetype": "text/x-python",
   "name": "python",
   "nbconvert_exporter": "python",
   "pygments_lexer": "ipython3",
   "version": "3.9.7"
  }
 },
 "nbformat": 4,
 "nbformat_minor": 4
}
